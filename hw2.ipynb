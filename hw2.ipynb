{
  "cells": [
    {
      "cell_type": "markdown",
      "metadata": {
        "id": "YXVZmY8ilriC"
      },
      "source": [
        "# Homework 2\n",
        "\n",
        "This assignment is due Friday, February 24 at 11:59pm Central Time. \n",
        "\n",
        "This assignment can be completed in **groups of two**. If you need to find a partner, please post in the pinned note on Piazza.\n",
        "\n",
        "Once you have formed your groups, the work you submit must belong only to your group members. Do not submit another team's work as your own, and do not allow another team to submit your work as their own. If you use resources you find online, you must cite those in your notebook.\n",
        "\n",
        "To submit this assignment, you should commit to your GitHub account:\n",
        "\n",
        "* your Net ID(s) in the netid file; one per line. Please do not put your name in your notebook; we will grade these anonymously.\n",
        "\n",
        "* a hw2.pdf printout of the completed notebook that shows all your answers.\n",
        "\n",
        "* your final hw2.ipynb notebook with outputs saved. If we run your notebook from scratch, it should produce an output identical to your PDF. You can edit your notebook however you want (on Colab, on your local machine, somewhere else); just upload the latest version of it to GitHub.\n",
        "\n",
        "Your GitHub account must submit contain all three of these, or you will lose points. We will not accept late work except in extreme settings."
      ]
    },
    {
      "cell_type": "code",
      "execution_count": 23,
      "metadata": {
        "colab": {
          "base_uri": "https://localhost:8080/"
        },
        "id": "kmmalHu_lq13",
        "outputId": "724086cc-f93f-4f9a-e944-eb67f7930c0e"
      },
      "outputs": [
        {
          "output_type": "stream",
          "name": "stdout",
          "text": [
            "fatal: destination path 'cs449w23' already exists and is not an empty directory.\n",
            "/content/cs449w23\n"
          ]
        }
      ],
      "source": [
        "# If using local runtime\n",
        "# base_dir = \"~/Documents\"\n",
        "# If using hosted runtime\n",
        "base_dir = \"/content\"\n",
        "\n",
        "# helper code from the course repository\n",
        "!cd $base_dir && git clone -q https://github.com/zachwooddoughty/cs449w23.git\n",
        "# install common pacakges used for deep learning\n",
        "!cd $base_dir/cs449w23/ && pip install -q -r requirements.txt\n",
        "\n",
        "# make sure we're in the right directory\n",
        "%cd $base_dir/cs449w23/\n",
        "!git pull -q origin main"
      ]
    },
    {
      "cell_type": "code",
      "execution_count": 24,
      "metadata": {
        "id": "EVNH8KF1isWi"
      },
      "outputs": [],
      "source": [
        "%matplotlib inline\n",
        "\n",
        "import datetime\n",
        "import math\n",
        "import torch\n",
        "import matplotlib.pyplot as plt\n",
        "import numpy as np\n",
        "import IPython.display as ipd\n",
        "from matplotlib.animation import FuncAnimation\n",
        "from pathlib import Path\n",
        "from torch.utils.tensorboard import SummaryWriter\n",
        "from torchsummary import summary\n",
        "from tqdm import tqdm\n",
        "\n",
        "from utils.gan import *"
      ]
    },
    {
      "cell_type": "markdown",
      "metadata": {
        "id": "OM2yMtIH0OWe"
      },
      "source": [
        "## GANs and Autoencoders\n",
        "\n",
        "This homework assignment builds off the GAN notebook and the Autoencoder notebook that we saw in class. You may copy any code from those notebooks into your code.\n",
        "\n",
        "For this assignment, you will combine the models introduced in those two notebooks to create a combined Autoencoder + GAN model. In particular, that will look something like this:\n",
        "\n",
        "![Diagram of model architecture](https://github.com/zachwooddoughty/cs449w23/raw/main/static/hw2_fig.png)\n",
        "\n",
        "We're giving you the defined models below and the skeleton of the training code, and you just need to define the optimizers and write the loss functions to allow these models to train together.\n",
        "\n",
        "If we write this in a functional representation, then the encoder $E(X)$ takes in a real image and outputs a $z$ vector, $G(z)$ takes in a $z$ vecotr and outputs an image $\\tilde X$, and $D(X)$ takes in an image and outputs a scalar probability.\n",
        "\n",
        "The autoencoder loss will be MSELoss comparing $X$ and $\\tilde X$ and the generator and discriminator will be otherwise the same as in a GAN. However, the tricky component is to get the model to train and reduce all three losses simultaneously."
      ]
    },
    {
      "cell_type": "code",
      "execution_count": 25,
      "metadata": {
        "id": "d_EPvBVEkuZX"
      },
      "outputs": [],
      "source": [
        "class MLPGenerator(torch.nn.Module):\n",
        "    \n",
        "    def __init__(self, \n",
        "                 number_of_hidden_layers: int, \n",
        "                 input_size: int, \n",
        "                 hidden_size: int, \n",
        "                 output_size: int,\n",
        "                 activation: torch.nn.Module):\n",
        "        \"\"\"Construct a simple MLP generator\"\"\"\n",
        "        \n",
        "        super().__init__()\n",
        "        \n",
        "        assert number_of_hidden_layers >= 0, \"Generator number_of_hidden_layers must be at least 0\"\n",
        "        \n",
        "        dims_in = [input_size] + [hidden_size] * number_of_hidden_layers\n",
        "        dims_out = [hidden_size] * number_of_hidden_layers + [output_size] # final output should be the size of a true example\n",
        "        layers = []\n",
        "        for i in range(number_of_hidden_layers + 1):\n",
        "            layers.append(torch.nn.Linear(dims_in[i], dims_out[i]))\n",
        "            \n",
        "            if i < number_of_hidden_layers:\n",
        "                layers.append(activation)\n",
        "        \n",
        "        # apply Sigmoid after final layer to constrain generated images to [0, 1]\n",
        "        layers.append(torch.nn.Sigmoid())\n",
        "        \n",
        "        self.net = torch.nn.Sequential(*layers)\n",
        "    \n",
        "    def forward(self, x: torch.Tensor):\n",
        "        return self.net(x)\n",
        "\n",
        "class MLPDiscriminator(torch.nn.Module):\n",
        "    \n",
        "    def __init__(self, \n",
        "                 number_of_hidden_layers: int, \n",
        "                 input_size: int, \n",
        "                 hidden_size: int, \n",
        "                 activation: torch.nn.Module):\n",
        "        \"\"\"Construct a simple MLP discriminator\"\"\"\n",
        "        \n",
        "        super().__init__()\n",
        "        \n",
        "        msg = \"Discriminator number_of_hidden_layers must be at least 0\"\n",
        "        assert number_of_hidden_layers >= 0, msg\n",
        "        \n",
        "        # final output dimension is scalar (probability image is real)\n",
        "        dims_in = [input_size] + [hidden_size] * number_of_hidden_layers\n",
        "        dims_out = [hidden_size] * number_of_hidden_layers + [1]\n",
        "        \n",
        "        layers = []\n",
        "        for i in range(number_of_hidden_layers + 1):\n",
        "            layers.append(torch.nn.Linear(dims_in[i], dims_out[i]))\n",
        "            \n",
        "            if i < number_of_hidden_layers:\n",
        "                layers.append(activation)\n",
        "        \n",
        "        # apply sigmoid after final layer to represent probability\n",
        "        layers.append(torch.nn.Sigmoid())\n",
        "        \n",
        "        self.net = torch.nn.Sequential(*layers)\n",
        "    \n",
        "    def forward(self, x: torch.Tensor):\n",
        "        return self.net(x)\n",
        "\n",
        "class MLPEncoder(torch.nn.Module):\n",
        "    \n",
        "    def __init__(self, \n",
        "                 number_of_hidden_layers: int, \n",
        "                 input_size: int, \n",
        "                 hidden_size: int, \n",
        "                 latent_size: int,\n",
        "                 activation: torch.nn.Module):\n",
        "        \"\"\"Construct a simple MLP encoder\"\"\"\n",
        "        \n",
        "        super().__init__()\n",
        "        \n",
        "        assert number_of_hidden_layers >= 0, \"Encoder number_of_hidden_layers must be at least 0\"\n",
        "        \n",
        "        dims_in = [input_size] + [hidden_size] * number_of_hidden_layers\n",
        "        dims_out = [hidden_size] * number_of_hidden_layers + [latent_size]  # final output should be latent size\n",
        "        layers = []\n",
        "        for i in range(number_of_hidden_layers + 1):\n",
        "            layers.append(torch.nn.Linear(dims_in[i], dims_out[i]))\n",
        "            \n",
        "            if i < number_of_hidden_layers:\n",
        "                layers.append(activation)\n",
        "\n",
        "        self.net = torch.nn.Sequential(*layers)\n",
        "    \n",
        "    def forward(self, x: torch.Tensor):\n",
        "        return self.net(x)\n",
        "\n",
        "\n",
        "class Model(torch.nn.Module):\n",
        "    def __init__(self,\n",
        "                 number_of_hidden_layers: int, \n",
        "                 latent_size: int, \n",
        "                 hidden_size: int, \n",
        "                 output_size: int,\n",
        "                 activation_generator: torch.nn.Module = torch.nn.ReLU(),\n",
        "                 activation_discriminator: torch.nn.Module = torch.nn.LeakyReLU(0.2)\n",
        "                ):\n",
        "        \n",
        "        super().__init__()\n",
        "\n",
        "        self.encoder = MLPEncoder(\n",
        "            number_of_hidden_layers=number_of_hidden_layers, \n",
        "            input_size=output_size, \n",
        "            hidden_size=hidden_size, \n",
        "            latent_size=latent_size,\n",
        "            activation=activation_generator,\n",
        "        )\n",
        "                          \n",
        "        self.generator = MLPGenerator(\n",
        "            number_of_hidden_layers=number_of_hidden_layers, \n",
        "            input_size=latent_size, \n",
        "            hidden_size=hidden_size, \n",
        "            output_size=output_size,\n",
        "            activation=activation_generator\n",
        "        )\n",
        "        \n",
        "        self.discriminator = MLPDiscriminator(\n",
        "            number_of_hidden_layers=number_of_hidden_layers, \n",
        "            input_size=output_size, \n",
        "            hidden_size=hidden_size,\n",
        "            activation=activation_discriminator\n",
        "        )   "
      ]
    },
    {
      "cell_type": "code",
      "execution_count": 26,
      "metadata": {
        "id": "oYmhDlK_lWQA"
      },
      "outputs": [],
      "source": [
        "# training hyperparameters\n",
        "image_size = 28\n",
        "batch_size = 64\n",
        "latent_size = 64\n",
        "hidden_size = 256\n",
        "number_of_hidden_layers = 2\n",
        "lr = 0.00002\n",
        "\n",
        "# select device\n",
        "device = torch.device(\"cuda\" if torch.cuda.is_available() else \"cpu\")\n",
        "\n",
        "# load MNIST dataset\n",
        "mnist = load_mnist(batch_size=batch_size)\n",
        "\n",
        "# initialize the model\n",
        "model = Model(\n",
        "    number_of_hidden_layers=number_of_hidden_layers, \n",
        "    latent_size=latent_size, \n",
        "    hidden_size=hidden_size, \n",
        "    output_size=image_size*image_size, \n",
        ").to(device)\n",
        "\n",
        "# discriminator loss function: binary cross-entropy loss\n",
        "discrim_loss_func = torch.nn.BCELoss()\n",
        "# autoencoder loss function: mean squared error between original and new image\n",
        "autoencoder_loss_func = torch.nn.MSELoss()\n",
        "\n",
        "# determine which labels will correspond to \"real\" and \"fake\" predictions from the discriminator\n",
        "label_real = 1.0\n",
        "label_fake = 0.0\n",
        "\n",
        "# select a fixed set of latent vectors z that we will use to visualize the GAN's generation quality each epoch\n",
        "fixed_latents = torch.randn((batch_size, latent_size)).to(device)"
      ]
    },
    {
      "cell_type": "markdown",
      "metadata": {
        "id": "e5Q1xvO2Rwi6"
      },
      "source": [
        "## Coding (7 points)\n",
        "\n",
        "To get this code to run, you need to do two things.\n",
        "\n",
        "* First, instantiate the optimizer(s) you will use to update your model parameters. Remember that you will need to update parameters in `model.encoder`, `model.generator`, and `model.discriminator`. One decision you have to make is how many optimizers you want to use.\n",
        "\n",
        "* Write the training code below to compute the loss terms for each part of your model: `loss_discriminator`, `loss_generator`, and `loss_autoencoder`. As in the VAE notebook, you may want to consider weighting these losses differently.\n",
        "\n",
        "For full points, we must be able to run your notebook as is and reproduce (almost) exactly the same results."
      ]
    },
    {
      "cell_type": "code",
      "execution_count": 27,
      "metadata": {
        "colab": {
          "base_uri": "https://localhost:8080/"
        },
        "id": "OfyAKlI1l4UD",
        "outputId": "2f7b3055-0b77-4ca4-9cc2-de0380af617d"
      },
      "outputs": [
        {
          "output_type": "stream",
          "name": "stdout",
          "text": [
            "Epoch:    1  AE Loss:      0.1  Gen Loss:      0.2  Dis Loss:      0.4  Total:      0.7\n",
            "Epoch:    2  AE Loss:      0.1  Gen Loss:      0.2  Dis Loss:      0.3  Total:      0.6\n",
            "Epoch:    3  AE Loss:      0.1  Gen Loss:      0.2  Dis Loss:      0.3  Total:      0.6\n",
            "Epoch:    4  AE Loss:      0.1  Gen Loss:      0.2  Dis Loss:      0.3  Total:      0.6\n",
            "Epoch:    5  AE Loss:      0.1  Gen Loss:      0.2  Dis Loss:      0.3  Total:      0.6\n",
            "Epoch:    6  AE Loss:      0.0  Gen Loss:      0.2  Dis Loss:      0.3  Total:      0.6\n",
            "Epoch:    7  AE Loss:      0.0  Gen Loss:      0.2  Dis Loss:      0.3  Total:      0.6\n",
            "Epoch:    8  AE Loss:      0.0  Gen Loss:      0.2  Dis Loss:      0.3  Total:      0.6\n",
            "Epoch:    9  AE Loss:      0.0  Gen Loss:      0.2  Dis Loss:      0.3  Total:      0.5\n",
            "Epoch:   10  AE Loss:      0.0  Gen Loss:      0.2  Dis Loss:      0.3  Total:      0.5\n"
          ]
        }
      ],
      "source": [
        "# fix random seed\n",
        "torch.manual_seed(0)\n",
        "\n",
        "epochs = 10\n",
        "\n",
        "# use an optimizer to handle parameter updates\n",
        "opt_encoder = torch.optim.Adam(model.encoder.parameters(), lr=lr)\n",
        "opt_generator = torch.optim.Adam(model.generator.parameters(), lr=lr)\n",
        "opt_discriminator = torch.optim.Adam(model.discriminator.parameters(), lr=lr)\n",
        "label_real = 1.0\n",
        "label_fake = 0.0\n",
        "# en_w = 1\n",
        "# gen_w = 1\n",
        "# dis_w = 1\n",
        "\n",
        "\n",
        "loss = torch.nn.MSELoss()\n",
        "\n",
        "# log metrics\n",
        "loss_d = np.zeros(epochs)\n",
        "loss_g = np.zeros(epochs)\n",
        "loss_ae = np.zeros(epochs)\n",
        "\n",
        "for epoch in range(epochs):\n",
        "    total_epoch_size = 0\n",
        "    for batch_idx, batch_data in enumerate(mnist):\n",
        "        # Zero out grads at beginning of epoch\n",
        "        model.encoder.zero_grad()\n",
        "        model.discriminator.zero_grad()\n",
        "        model.generator.zero_grad()\n",
        "\n",
        "        x_real, y_real = batch_data\n",
        "        \n",
        "        # flatten input images and move to device\n",
        "        x_real = x_real.to(device)\n",
        "        n_batch = x_real.shape[0]\n",
        "        x_real = x_real.reshape(n_batch, -1)\n",
        "\n",
        "        # TODO: write your training code here to compute loss functions\n",
        "        #   for each model section\n",
        "        # train on a batch of inputs\n",
        "        y_real_label = torch.full((n_batch, 1), label_real, device=device)\n",
        "        y_fake_label = torch.full((n_batch, 1), label_fake, device=device)\n",
        "\n",
        "        # autoencoder loss\n",
        "        z = model.encoder(x_real)\n",
        "        x_reconstructed = model.generator(z)\n",
        "        loss_autoencoder = loss(x_real, x_reconstructed)\n",
        "        loss_autoencoder.backward()\n",
        "        opt_encoder.step()\n",
        "\n",
        "        # generator loss\n",
        "        preds_fake = model.discriminator(x_reconstructed.detach())\n",
        "        loss_generator = loss(preds_fake, y_real_label)\n",
        "        loss_generator.backward()\n",
        "        opt_generator.step()\n",
        "\n",
        "        # #  discriminator loss\n",
        "        preds_real = model.discriminator(x_real)\n",
        "        loss_real = loss(preds_real, y_real_label)\n",
        "\n",
        "        preds_fake = model.discriminator(x_reconstructed.detach())\n",
        "        loss_fake = loss(preds_fake, y_fake_label)\n",
        "\n",
        "        loss_discriminator = (loss_real + loss_fake)\n",
        "        loss_discriminator.backward()\n",
        "        opt_discriminator.step()\n",
        "        \n",
        "        # loss_discriminator = torch.tensor(0)\n",
        "        # loss_generator = torch.tensor(0)\n",
        "        # loss_autoencoder = torch.tensor(0)\n",
        "        \n",
        "        # log losses and scores\n",
        "        loss_d[epoch] += loss_discriminator.detach().item() * n_batch\n",
        "        loss_g[epoch] += loss_generator.detach().item() * n_batch\n",
        "        loss_ae[epoch] += loss_autoencoder.detach().item() * n_batch\n",
        "        total_epoch_size += n_batch\n",
        "\n",
        "    loss_d[epoch] /= total_epoch_size\n",
        "    loss_g[epoch] /= total_epoch_size\n",
        "    loss_ae[epoch] /= total_epoch_size\n",
        "\n",
        "    if epoch == 0 or (epoch + 1) % max(1, epochs // 10) == 0:\n",
        "        total = loss_ae[epoch] + loss_g[epoch] + loss_d[epoch]\n",
        "        log = \"  \".join([\n",
        "            f\"Epoch: {epoch + 1:4d}\",\n",
        "            f\"AE Loss: {loss_ae[epoch]:8.1f}\",\n",
        "            f\"Gen Loss: {loss_g[epoch]:8.1f}\",\n",
        "            f\"Dis Loss: {loss_d[epoch]:8.1f}\",\n",
        "            f\"Total: {total:8.1f}\",\n",
        "        ])\n",
        "        print(log)"
      ]
    },
    {
      "cell_type": "markdown",
      "metadata": {
        "id": "_81rHjXK2l1N"
      },
      "source": [
        "Once you've trained your model, use the next two cells to sample some images from your generator."
      ]
    },
    {
      "cell_type": "code",
      "execution_count": 30,
      "metadata": {
        "colab": {
          "base_uri": "https://localhost:8080/",
          "height": 520
        },
        "id": "AScgZZX8szjq",
        "outputId": "e2b4c147-6b3e-4b28-d645-983826bdaeae"
      },
      "outputs": [
        {
          "output_type": "display_data",
          "data": {
            "text/plain": [
              "<Figure size 648x648 with 9 Axes>"
            ],
            "image/png": "[encoded data removed]"
          },
          "metadata": {
            "needs_background": "light"
          }
        }
      ],
      "source": [
        "nrows, ncols = (3, 3)\n",
        "fig, axes = plt.subplots(nrows=nrows, ncols=ncols, figsize=(3 * nrows, 3 * ncols))\n",
        "\n",
        "for row in range(nrows):\n",
        "    for col in range(ncols):\n",
        "        z = torch.randn(1, latent_size).to(device)\n",
        "        output = model.generator(z).reshape(image_size, image_size).detach().cpu()\n",
        "        axes[row, col].imshow(output.squeeze(), cmap='gray')\n",
        "        axes[row, col].axis('off')\n",
        "\n",
        "plt.show()"
      ]
    },
    {
      "cell_type": "code",
      "execution_count": 31,
      "metadata": {
        "colab": {
          "base_uri": "https://localhost:8080/",
          "height": 356
        },
        "id": "MRQy5q1btCk4",
        "outputId": "70952ecc-2b85-4197-b32f-dae9656b5f4e"
      },
      "outputs": [
        {
          "output_type": "display_data",
          "data": {
            "text/plain": [
              "<Figure size 576x432 with 6 Axes>"
            ],
            "image/png": "[encoded data removed]"
          },
          "metadata": {
            "needs_background": "light"
          }
        }
      ],
      "source": [
        "example_batch = next(iter(mnist))[0].to(device)\n",
        "fig, axes = plt.subplots(nrows=2, ncols=3, figsize=(8, 6))\n",
        "\n",
        "indices = np.argsort(np.random.rand(example_batch.shape[0]))[:3]\n",
        "\n",
        "for col, index in enumerate(indices):\n",
        "\n",
        "    example_image = example_batch[index].cpu()\n",
        "    axes[0, col].imshow(example_image.squeeze(), cmap='gray')\n",
        "    axes[0, col].set_title(\"Original Image\")\n",
        "    axes[0, col].axis('off')\n",
        "\n",
        "    image_input = example_image.flatten().unsqueeze(0).to(device)\n",
        "    recons_img = model.generator(model.encoder(image_input))\n",
        "    recons_img = recons_img.reshape(1, image_size, image_size).detach().cpu()\n",
        "    axes[1, col].imshow(recons_img.squeeze(), cmap='gray')\n",
        "    axes[1, col].set_title(\"Reconstructed Image\")\n",
        "    axes[1, col].axis('off')\n",
        "\n",
        "plt.show()"
      ]
    },
    {
      "cell_type": "markdown",
      "metadata": {
        "id": "QsPCyEjztSLl"
      },
      "source": [
        "## Coding explanation (6 points)\n",
        "\n",
        "### 1. What did you do? (4 points)\n",
        "\n",
        "Describe your approach in your code above; what choices did you make and why?\n",
        "\n",
        "We used three optimizers: one for the autoencoder, generators and discriminator. This was because this enabled us to accurately think about which loss we were actually calculating and what we were trying to optimize. For the autoencoder, we calculate the loss as the difference between the generators ouputs and the real images. For the generator, we calculate the loss as the reconstructed images that the discriminator was able to predict as fake. We detached the gradients from the encoder to ensure only the generator was trained. For the discriminator we did the same but we also calculated the loss as the real images that the discriminator was not able to tell as real. For the reconstructed images, we detached them from the generator inorder to only train the discriminator.\n",
        "\n",
        "\n",
        "If you weren't able to get the model to train, you can still earn these points by describing what you tried and what didn't seem to work.\n",
        "\n",
        "### 2. Discuss your results (2 points)\n",
        "\n",
        "If you were able to get your model to train, what did you notice about the trends in the three different loss values? How do your generated images in the previous cells look similar to or different from the images we saw in the GAN or Autoencoder notebooks?\n",
        "\n",
        "The AE loss was always the lowest followed by the generator and then the discriminator. We hypothesize that the discriminator had the highest loss because because the AE and generator were working to make the best reconstructed images.\n",
        "\n",
        "The reconstructured images from the GAN notebook look more high quality than the ones we generated. Ours seems to have more noise even though we can see the general features of the digits forming.\n",
        "\n",
        "The same applies to the autoencoder notebook.\n",
        "\n",
        "The reason is that the different loss functions were working in different directions."
      ]
    },
    {
      "cell_type": "markdown",
      "metadata": {
        "id": "_7SU0EE17qLI"
      },
      "source": [
        "## Conceptual questions (7 points)\n",
        "\n",
        "### 1. Mode collapse (2 points)\n",
        "\n",
        "Look back at the slides, notebook, and/or readings around mode collapse in GANs.\n",
        "* First, give a one or two sentence definition of what mode collapse is, in your own words.\n",
        "\n",
        "Mode collapse is a phenomenon where a GAN produces limited variations of output samples, failing to capture the full diversity of the training data. Basically, there is a combination of features that seem to fool the discriminator and the model gets “too comfortable” in learning those features that it just settles to the mode of the distribution and ends up spitting out non-varied outputs.\n",
        "\n",
        "* Second, explain why mode collapse is *more* or *less* likely in the above model that incorporates an autoencoder into the GAN. Write at least two sentences.\n",
        "\n",
        "I think incorporating an autoencoder into a GAN may make mode collapse more likely to occur. This is because the autoencoder compresses the input data into a lower-dimensional representation, which can lessen the input data variety. This way we could have multiple points in a higher dimensional space getting mapped to fewer points in a lower dimensional space which may not capture all the important features of the training data.\n",
        "\n",
        "### 2. Loss functions (3 points)\n",
        "\n",
        "In the above model that you trained, there are different loss functions for the autoencoder, generator, and discriminator. For each pair of losses, describe whether and how the two losses are in conflict. That is, when training your model, does reducing loss #1 tend to increase loss #2? Why or why not?\n",
        "\n",
        "* a. Generator loss and discriminator loss\n",
        "\n",
        "The two losses are in conflict. Because the discriminator tries to maximize the loss while the generator tries to minimize the loss, If the discriminator loss is high and the generator loss is low, then the generator is doing a successful job at fooling the discriminator. So reducing the generator loss tends to increase the discriminator loss.\n",
        "\n",
        "* b. Generator loss and autoencoder loss\n",
        "\n",
        "The two losses go together. Because the autoencoder is being fed into the discriminator, if it has a high loss (doing a poor job at compressing the data), this would affect the decompressed data that the generator spits out which may end up doing a poor job at fooling the discriminator, and in that way, increase the generator loss. So reducing the generator loss tends to reduce the autoencoder loss.\n",
        "\n",
        "* c. Discriminator loss and autoencoder loss\n",
        "\n",
        "Since the autoencoder works alongside the generator, if it has a high loss, it’ll affect how bad the generator loss would be, which would, in turn, make it worse at fooling the discriminator and in that case make the discriminator loss go low. So reducing the discriminator loss tends to increase the autoencoder loss.\n",
        "\n",
        "\n",
        "### 3. Class conditioning (2 points)\n",
        "\n",
        "Suppose you wanted to add in class-conditioning to [the generator and discriminator](https://arxiv.org/pdf/1411.1784.pdf) and [the autoencoder](https://proceedings.neurips.cc/paper/2015/file/8d55a249e6baa5c06772297520da2051-Paper.pdf) in your model. How and why would this change your loss function(s)?\n",
        "\n",
        "Incorporating class conditioning would involve adding additional terms that encourage the generator and the autoencoder to generate output data that belongs to the specified class. This way, the loss functions could be “hardcoded” to perform better, and thus make them lower."
      ]
    }
  ],
  "metadata": {
    "colab": {
      "provenance": []
    },
    "kernelspec": {
      "display_name": "Python 3",
      "name": "python3"
    },
    "language_info": {
      "name": "python"
    }
  },
  "nbformat": 4,
  "nbformat_minor": 0
}